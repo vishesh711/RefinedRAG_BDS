{
 "cells": [
  {
   "cell_type": "code",
   "execution_count": 1,
   "metadata": {},
   "outputs": [],
   "source": [
    "from langchain_core.documents import Document\n",
    "from ragbase.model import create_reranker, create_llm\n",
    "from langchain.retrievers.document_compressors.chain_filter import LLMChainFilter\n",
    "from langchain.globals import set_verbose\n",
    "\n",
    "set_verbose(True)"
   ]
  },
  {
   "cell_type": "code",
   "execution_count": 2,
   "metadata": {},
   "outputs": [],
   "source": [
    "reranker = create_reranker()"
   ]
  },
  {
   "cell_type": "code",
   "execution_count": 3,
   "metadata": {},
   "outputs": [],
   "source": [
    "documents = [\n",
    "    Document(\"\"\"Not since Porsche blew air cooling out the back door in 1999 with the 996-\n",
    "generation 911 has there been a bigger change that will upset more Porsche fans\n",
    "than the hybridization of the 911. Fans, however, are not necessarily owners, and\n",
    "those with the means will not mind the 21st-century tech one bit, because if\n",
    "Porsche didn't tell anyone this updated 992.2 was a hybrid, no one would know by\n",
    "how it drives.\n",
    "\"\"\"),\n",
    "    Document(\"\"\"For now, the new 3.6-liter flat-six operating in perfect stoichiometry all the time,\n",
    "its electrified turbocharger, and eight-speed dual-clutch gearbox with an integral\n",
    "electric motor are limited to the GTS, which used to be powered by a jazzed-up\n",
    "version of the twin-turbo 3.0-liter in the base Carrera.\n",
    "\"\"\"),\n",
    "    Document(\"\"\"\n",
    "Anyway, the screen is cheaper, but at least Porsche does some cool stuff with it.\n",
    "There are seven different views, including a classic five-gauge cluster, but the most\n",
    "interesting of them is a track-focused mode that clocks the tach so that the redline\n",
    "is near 12 o'clock. Porsche would have scored more points if it had kept the \n",
    "orientation of the tach numbers so that they locked with the twist, like a real\n",
    "clocked tach out of a 917.\n",
    "\"\"\"),\n",
    "    Document(\"\"\"The bad news is that the GTS coupe starts at $166,895. The back seat is no longer\n",
    "standard, though adding the +2 second row is a no-cost option. That's mega\n",
    "money, but until Porsche sees sales drop, you better believe it will keep raising its\n",
    "prices. That's just basic supply-demand, and plenty of people will line up for this\n",
    "water-cooled hybrid.\n",
    "\"\"\")\n",
    "]"
   ]
  },
  {
   "cell_type": "markdown",
   "metadata": {},
   "source": [
    "## Reranker"
   ]
  },
  {
   "cell_type": "code",
   "execution_count": 4,
   "metadata": {},
   "outputs": [],
   "source": [
    "reranked_documents = reranker.compress_documents(documents, \"What is the price?\")"
   ]
  },
  {
   "cell_type": "code",
   "execution_count": 5,
   "metadata": {},
   "outputs": [
    {
     "name": "stdout",
     "output_type": "stream",
     "text": [
      "dict_keys(['id', 'metadata', 'page_content', 'type'])\n",
      "score: 0.12178549\n",
      "The bad news is that the GTS coupe starts at $166,895. The back seat is no longer\n",
      "standard, though adding the +2 second row is a no-cost option. That's mega\n",
      "money, but until Porsche sees sales drop, you better believe it will keep raising its\n",
      "prices. That's just basic supply-demand, and plenty of people will line up for this\n",
      "water-cooled hybrid.\n",
      "\n"
     ]
    }
   ],
   "source": [
    "first_result = reranked_documents[0]\n",
    "print(first_result.__dict__.keys())\n",
    "print(\"score:\", first_result.metadata[\"relevance_score\"])\n",
    "print(first_result.page_content)"
   ]
  },
  {
   "cell_type": "markdown",
   "metadata": {},
   "source": [
    "## LLM Chain Filter"
   ]
  },
  {
   "cell_type": "code",
   "execution_count": 6,
   "metadata": {},
   "outputs": [
    {
     "name": "stdout",
     "output_type": "stream",
     "text": [
      "\n",
      "\n",
      "\u001b[1m> Entering new LLMChain chain...\u001b[0m\n",
      "\n",
      "\u001b[1m> Entering new LLMChain chain...\u001b[0m\n",
      "Prompt after formatting:\n",
      "\u001b[32;1m\u001b[1;3mGiven the following question and context, return YES if the context is relevant to the question and NO if it isn't.\n",
      "\n",
      "> Question: How many seats in the car?\n",
      "> Context:\n",
      ">>>\n",
      "For now, the new 3.6-liter flat-six operating in perfect stoichiometry all the time,\n",
      "its electrified turbocharger, and eight-speed dual-clutch gearbox with an integral\n",
      "electric motor are limited to the GTS, which used to be powered by a jazzed-up\n",
      "version of the twin-turbo 3.0-liter in the base Carrera.\n",
      "\n",
      ">>>\n",
      "> Relevant (YES / NO):\u001b[0m\n",
      "\n",
      "Prompt after formatting:\n",
      "\u001b[32;1m\u001b[1;3mGiven the following question and context, return YES if the context is relevant to the question and NO if it isn't.\n",
      "\n",
      "> Question: How many seats in the car?\n",
      "> Context:\n",
      ">>>\n",
      "Not since Porsche blew air cooling out the back door in 1999 with the 996-\n",
      "generation 911 has there been a bigger change that will upset more Porsche fans\n",
      "than the hybridization of the 911. Fans, however, are not necessarily owners, and\n",
      "those with the means will not mind the 21st-century tech one bit, because if\n",
      "Porsche didn't tell anyone this updated 992.2 was a hybrid, no one would know by\n",
      "how it drives.\n",
      "\n",
      ">>>\n",
      "> Relevant (YES / NO):\u001b[0m\n",
      "\n",
      "\n",
      "\u001b[1m> Entering new LLMChain chain...\u001b[0m\n",
      "Prompt after formatting:\n",
      "\u001b[32;1m\u001b[1;3mGiven the following question and context, return YES if the context is relevant to the question and NO if it isn't.\n",
      "\n",
      "> Question: How many seats in the car?\n",
      "> Context:\n",
      ">>>\n",
      "\n",
      "Anyway, the screen is cheaper, but at least Porsche does some cool stuff with it.\n",
      "There are seven different views, including a classic five-gauge cluster, but the most\n",
      "interesting of them is a track-focused mode that clocks the tach so that the redline\n",
      "is near 12 o'clock. Porsche would have scored more points if it had kept the \n",
      "orientation of the tach numbers so that they locked with the twist, like a real\n",
      "clocked tach out of a 917.\n",
      "\n",
      ">>>\n",
      "> Relevant (YES / NO):\u001b[0m\n",
      "\n",
      "\n",
      "\u001b[1m> Entering new LLMChain chain...\u001b[0m\n",
      "Prompt after formatting:\n",
      "\u001b[32;1m\u001b[1;3mGiven the following question and context, return YES if the context is relevant to the question and NO if it isn't.\n",
      "\n",
      "> Question: How many seats in the car?\n",
      "> Context:\n",
      ">>>\n",
      "The bad news is that the GTS coupe starts at $166,895. The back seat is no longer\n",
      "standard, though adding the +2 second row is a no-cost option. That's mega\n",
      "money, but until Porsche sees sales drop, you better believe it will keep raising its\n",
      "prices. That's just basic supply-demand, and plenty of people will line up for this\n",
      "water-cooled hybrid.\n",
      "\n",
      ">>>\n",
      "> Relevant (YES / NO):\u001b[0m\n"
     ]
    },
    {
     "name": "stderr",
     "output_type": "stream",
     "text": [
      "huggingface/tokenizers: The current process just got forked, after parallelism has already been used. Disabling parallelism to avoid deadlocks...\n",
      "To disable this warning, you can either:\n",
      "\t- Avoid using `tokenizers` before the fork if possible\n",
      "\t- Explicitly set the environment variable TOKENIZERS_PARALLELISM=(true | false)\n",
      "huggingface/tokenizers: The current process just got forked, after parallelism has already been used. Disabling parallelism to avoid deadlocks...\n",
      "To disable this warning, you can either:\n",
      "\t- Avoid using `tokenizers` before the fork if possible\n",
      "\t- Explicitly set the environment variable TOKENIZERS_PARALLELISM=(true | false)\n",
      "huggingface/tokenizers: The current process just got forked, after parallelism has already been used. Disabling parallelism to avoid deadlocks...\n",
      "To disable this warning, you can either:\n",
      "\t- Avoid using `tokenizers` before the fork if possible\n",
      "\t- Explicitly set the environment variable TOKENIZERS_PARALLELISM=(true | false)\n",
      "huggingface/tokenizers: The current process just got forked, after parallelism has already been used. Disabling parallelism to avoid deadlocks...\n",
      "To disable this warning, you can either:\n",
      "\t- Avoid using `tokenizers` before the fork if possible\n",
      "\t- Explicitly set the environment variable TOKENIZERS_PARALLELISM=(true | false)\n",
      "INFO:httpx:HTTP Request: POST https://api.groq.com/openai/v1/chat/completions \"HTTP/1.1 200 OK\"\n",
      "INFO:httpx:HTTP Request: POST https://api.groq.com/openai/v1/chat/completions \"HTTP/1.1 200 OK\"\n",
      "INFO:httpx:HTTP Request: POST https://api.groq.com/openai/v1/chat/completions \"HTTP/1.1 200 OK\"\n"
     ]
    },
    {
     "name": "stdout",
     "output_type": "stream",
     "text": [
      "\n",
      "\u001b[1m> Finished chain.\u001b[0m\n",
      "\n",
      "\u001b[1m> Finished chain.\u001b[0m\n",
      "\n",
      "\u001b[1m> Finished chain.\u001b[0m\n"
     ]
    },
    {
     "name": "stderr",
     "output_type": "stream",
     "text": [
      "INFO:httpx:HTTP Request: POST https://api.groq.com/openai/v1/chat/completions \"HTTP/1.1 200 OK\"\n"
     ]
    },
    {
     "name": "stdout",
     "output_type": "stream",
     "text": [
      "\n",
      "\u001b[1m> Finished chain.\u001b[0m\n"
     ]
    }
   ],
   "source": [
    "chain_filter = LLMChainFilter.from_llm(create_llm())\n",
    "filtered_documents = chain_filter.compress_documents(documents, \"How many seats in the car?\")"
   ]
  },
  {
   "cell_type": "code",
   "execution_count": 7,
   "metadata": {},
   "outputs": [
    {
     "name": "stdout",
     "output_type": "stream",
     "text": [
      "1\n",
      "The bad news is that the GTS coupe starts at $166,895. The back seat is no longer\n",
      "standard, though adding the +2 second row is a no-cost option. That's mega\n",
      "money, but until Porsche sees sales drop, you better believe it will keep raising its\n",
      "prices. That's just basic supply-demand, and plenty of people will line up for this\n",
      "water-cooled hybrid.\n",
      "\n"
     ]
    }
   ],
   "source": [
    "print(len(filtered_documents))\n",
    "print(filtered_documents[0].page_content)"
   ]
  }
 ],
 "metadata": {
  "kernelspec": {
   "display_name": "ragbase-YTjELISx-py3.12",
   "language": "python",
   "name": "python3"
  },
  "language_info": {
   "codemirror_mode": {
    "name": "ipython",
    "version": 3
   },
   "file_extension": ".py",
   "mimetype": "text/x-python",
   "name": "python",
   "nbconvert_exporter": "python",
   "pygments_lexer": "ipython3",
   "version": "3.12.4"
  }
 },
 "nbformat": 4,
 "nbformat_minor": 2
}
